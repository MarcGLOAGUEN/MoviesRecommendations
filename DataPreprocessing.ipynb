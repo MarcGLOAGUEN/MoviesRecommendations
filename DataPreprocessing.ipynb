{
 "cells": [
  {
   "cell_type": "code",
   "execution_count": 83,
   "metadata": {
    "collapsed": true,
    "ExecuteTime": {
     "end_time": "2023-10-19T20:18:10.132151Z",
     "start_time": "2023-10-19T20:18:10.103753Z"
    }
   },
   "outputs": [],
   "source": [
    "import pandas as pd\n",
    "from sklearn.preprocessing import RobustScaler\n",
    "from sklearn.feature_extraction.text import CountVectorizer\n",
    "from module import NlpSpacy\n",
    "nlp = NlpSpacy()"
   ]
  },
  {
   "cell_type": "code",
   "execution_count": 48,
   "outputs": [],
   "source": [
    "basics = pd.read_csv(\n",
    "    \"data/title.basics.tsv\",\n",
    "    sep=\"\\t\", low_memory=False,\n",
    "    index_col='tconst',\n",
    "    na_values=['\\\\N']\n",
    ")"
   ],
   "metadata": {
    "collapsed": false,
    "ExecuteTime": {
     "end_time": "2023-10-19T19:57:50.293386Z",
     "start_time": "2023-10-19T19:57:35.987996Z"
    }
   }
  },
  {
   "cell_type": "code",
   "execution_count": 49,
   "outputs": [],
   "source": [
    "# keep no-adult movies\n",
    "movies = basics[(basics.isAdult == 0) & (basics.titleType == \"movie\")].copy()"
   ],
   "metadata": {
    "collapsed": false,
    "ExecuteTime": {
     "end_time": "2023-10-19T19:57:50.642613Z",
     "start_time": "2023-10-19T19:57:50.293537Z"
    }
   }
  },
  {
   "cell_type": "code",
   "execution_count": 50,
   "outputs": [],
   "source": [
    "# drop useless columns\n",
    "movies.drop(\n",
    "    columns=[\"titleType\",\"isAdult\",\"endYear\",\"primaryTitle\"],\n",
    "    inplace=True\n",
    ")"
   ],
   "metadata": {
    "collapsed": false,
    "ExecuteTime": {
     "end_time": "2023-10-19T19:57:50.671158Z",
     "start_time": "2023-10-19T19:57:50.642758Z"
    }
   }
  },
  {
   "cell_type": "code",
   "execution_count": 51,
   "outputs": [],
   "source": [
    "ratings = pd.read_csv(\n",
    "    \"data/title.ratings.tsv\",\n",
    "    sep=\"\\t\", low_memory=False,\n",
    "    index_col='tconst',\n",
    "    na_values=['\\\\N']\n",
    ")"
   ],
   "metadata": {
    "collapsed": false,
    "ExecuteTime": {
     "end_time": "2023-10-19T19:57:51.095473Z",
     "start_time": "2023-10-19T19:57:50.671322Z"
    }
   }
  },
  {
   "cell_type": "code",
   "execution_count": 52,
   "outputs": [],
   "source": [
    "# merge ratings to movies\n",
    "movies = pd.merge(\n",
    "    left=movies,\n",
    "    right=ratings,\n",
    "    left_index=True,\n",
    "    right_index=True,\n",
    "    how='left'\n",
    ")"
   ],
   "metadata": {
    "collapsed": false,
    "ExecuteTime": {
     "end_time": "2023-10-19T19:57:51.419594Z",
     "start_time": "2023-10-19T19:57:51.349073Z"
    }
   }
  },
  {
   "cell_type": "code",
   "execution_count": 53,
   "outputs": [],
   "source": [
    "# keep popular movies ( popular = numVote > 800 )\n",
    "movies = movies[movies.numVotes>800]"
   ],
   "metadata": {
    "collapsed": false,
    "ExecuteTime": {
     "end_time": "2023-10-19T19:57:51.434542Z",
     "start_time": "2023-10-19T19:57:51.419831Z"
    }
   }
  },
  {
   "cell_type": "code",
   "execution_count": 54,
   "outputs": [],
   "source": [
    "# data OMDbAPI (plot, country & poster )\n",
    "request_api = pd.read_csv(\"data/request_api.csv\", index_col='tconst')\n"
   ],
   "metadata": {
    "collapsed": false,
    "ExecuteTime": {
     "end_time": "2023-10-19T19:57:51.544446Z",
     "start_time": "2023-10-19T19:57:51.434676Z"
    }
   }
  },
  {
   "cell_type": "code",
   "execution_count": 55,
   "outputs": [],
   "source": [
    "movies = pd.merge(\n",
    "    left=movies,\n",
    "    right=request_api,\n",
    "    left_index=True,\n",
    "    right_index=True,\n",
    "    how='left'\n",
    ")"
   ],
   "metadata": {
    "collapsed": false,
    "ExecuteTime": {
     "end_time": "2023-10-19T19:57:51.598835Z",
     "start_time": "2023-10-19T19:57:51.558116Z"
    }
   }
  },
  {
   "cell_type": "code",
   "execution_count": 56,
   "outputs": [],
   "source": [
    "movies.country.fillna(\"unknow\", inplace=True)"
   ],
   "metadata": {
    "collapsed": false,
    "ExecuteTime": {
     "end_time": "2023-10-19T19:57:51.599101Z",
     "start_time": "2023-10-19T19:57:51.598492Z"
    }
   }
  },
  {
   "cell_type": "code",
   "execution_count": 57,
   "outputs": [],
   "source": [
    "# Filter films by popularity in relation to country of origin\n",
    "filter_usa = (movies.country.str.contains('United States')) & (movies.numVotes > 90000)\n",
    "filter_uk = (movies.country.str.contains('United Kingdom')) & (movies.numVotes > 90000)\n",
    "filter_fr = (movies.country.str.contains('France')) & (movies.numVotes > 3000)\n",
    "filter_india = (movies.country.str.contains('United States')) & (movies.numVotes > 17000)\n",
    "\n",
    "filter_other = (~movies.country.str.contains('United States|United Kingdom|France|India')) & (movies.numVotes > 9000)"
   ],
   "metadata": {
    "collapsed": false,
    "ExecuteTime": {
     "end_time": "2023-10-19T19:57:51.630203Z",
     "start_time": "2023-10-19T19:57:51.598924Z"
    }
   }
  },
  {
   "cell_type": "code",
   "execution_count": 58,
   "outputs": [],
   "source": [
    "movies = movies[filter_usa | filter_uk | filter_fr | filter_india | filter_other]"
   ],
   "metadata": {
    "collapsed": false,
    "ExecuteTime": {
     "end_time": "2023-10-19T19:57:51.630358Z",
     "start_time": "2023-10-19T19:57:51.624140Z"
    }
   }
  },
  {
   "cell_type": "code",
   "execution_count": 59,
   "outputs": [],
   "source": [
    "movies['startYear'] = movies.startYear.astype(int)\n",
    "movies['runtimeMinutes'] = movies.runtimeMinutes.astype(int)\n",
    "movies['numVotes'] = movies.runtimeMinutes.astype(int)"
   ],
   "metadata": {
    "collapsed": false,
    "ExecuteTime": {
     "end_time": "2023-10-19T19:57:51.632753Z",
     "start_time": "2023-10-19T19:57:51.630317Z"
    }
   }
  },
  {
   "cell_type": "code",
   "execution_count": 60,
   "outputs": [],
   "source": [
    "principals = pd.read_csv(\n",
    "    \"data/title.principals.tsv\",\n",
    "    sep=\"\\t\", low_memory=False,\n",
    "    na_values=['\\\\N'],\n",
    "    usecols=[\"tconst\",\"nconst\",\"category\"]\n",
    ")"
   ],
   "metadata": {
    "collapsed": false,
    "ExecuteTime": {
     "end_time": "2023-10-19T19:58:14.049869Z",
     "start_time": "2023-10-19T19:57:51.634348Z"
    }
   }
  },
  {
   "cell_type": "code",
   "execution_count": 61,
   "outputs": [],
   "source": [
    "#keep movies selected\n",
    "principals = principals[principals.tconst.isin(movies.index)]"
   ],
   "metadata": {
    "collapsed": false,
    "ExecuteTime": {
     "end_time": "2023-10-19T19:58:15.569635Z",
     "start_time": "2023-10-19T19:58:14.050232Z"
    }
   }
  },
  {
   "cell_type": "code",
   "execution_count": 62,
   "outputs": [],
   "source": [
    "name_basics = pd.read_csv(\n",
    "    \"data/name.basics.tsv\",\n",
    "    sep=\"\\t\", low_memory=False,\n",
    "    na_values=['\\\\N'],\n",
    "    usecols=[\"nconst\",\"primaryName\"]\n",
    ")"
   ],
   "metadata": {
    "collapsed": false,
    "ExecuteTime": {
     "end_time": "2023-10-19T19:58:25.963873Z",
     "start_time": "2023-10-19T19:58:15.570929Z"
    }
   }
  },
  {
   "cell_type": "code",
   "execution_count": 63,
   "outputs": [],
   "source": [
    "castings = pd.merge(\n",
    "    left=principals,\n",
    "    right=name_basics,\n",
    "    on='nconst',\n",
    "    how='left'\n",
    ").set_index('tconst')"
   ],
   "metadata": {
    "collapsed": false,
    "ExecuteTime": {
     "end_time": "2023-10-19T19:58:29.995290Z",
     "start_time": "2023-10-19T19:58:25.965680Z"
    }
   }
  },
  {
   "cell_type": "code",
   "execution_count": 64,
   "outputs": [],
   "source": [
    "castings[\"counter\"] = 0\n",
    "castings = castings.reset_index().merge(castings.groupby(\"primaryName\").counter.count(), on='primaryName').drop(columns='counter_x').rename(columns={'counter_y':'n_movies'}).set_index(\"tconst\")"
   ],
   "metadata": {
    "collapsed": false,
    "ExecuteTime": {
     "end_time": "2023-10-19T19:58:30.050445Z",
     "start_time": "2023-10-19T19:58:29.997012Z"
    }
   }
  },
  {
   "cell_type": "code",
   "execution_count": 65,
   "outputs": [],
   "source": [
    "castings = castings[castings.n_movies>2]"
   ],
   "metadata": {
    "collapsed": false,
    "ExecuteTime": {
     "end_time": "2023-10-19T19:58:30.055745Z",
     "start_time": "2023-10-19T19:58:30.051494Z"
    }
   }
  },
  {
   "cell_type": "code",
   "execution_count": 66,
   "outputs": [],
   "source": [
    "infos_movies = pd.merge(\n",
    "    left=movies,\n",
    "    right=castings.pivot_table('primaryName','tconst','category',aggfunc=lambda x : \",\".join(x).split(',')),\n",
    "    left_index=True,\n",
    "    right_index=True,\n",
    "    how='left'\n",
    ")"
   ],
   "metadata": {
    "collapsed": false,
    "ExecuteTime": {
     "end_time": "2023-10-19T19:58:30.386048Z",
     "start_time": "2023-10-19T19:58:30.058346Z"
    }
   }
  },
  {
   "cell_type": "code",
   "execution_count": 67,
   "outputs": [],
   "source": [
    "infos_movies.to_pickle(\"data/infos_movies.p\")"
   ],
   "metadata": {
    "collapsed": false,
    "ExecuteTime": {
     "end_time": "2023-10-19T19:58:30.404670Z",
     "start_time": "2023-10-19T19:58:30.386590Z"
    }
   }
  },
  {
   "cell_type": "code",
   "execution_count": 68,
   "outputs": [],
   "source": [
    "dummies = pd.concat(\n",
    "    [\n",
    "        pd.get_dummies(movies['genres'].str.split(',').explode(), prefix='Genre').groupby(\"tconst\").sum(),\n",
    "        pd.get_dummies(movies['country'].str.split(',').explode(), prefix='Country').groupby(\"tconst\").sum(),\n",
    "        pd.get_dummies(castings['primaryName'], columns=['primaryName'], prefix='Casting').groupby('tconst').sum().astype(bool)\n",
    "    ],\n",
    "    axis=1\n",
    ")"
   ],
   "metadata": {
    "collapsed": false,
    "ExecuteTime": {
     "end_time": "2023-10-19T19:58:34.645335Z",
     "start_time": "2023-10-19T19:58:30.408108Z"
    }
   }
  },
  {
   "cell_type": "code",
   "execution_count": 250,
   "outputs": [],
   "source": [
    "data_encoded = pd.merge(\n",
    "    left=movies[['startYear','runtimeMinutes','averageRating','numVotes']],\n",
    "    right=dummies,\n",
    "    left_index=True,\n",
    "    right_index=True,\n",
    "    how='left'\n",
    ")"
   ],
   "metadata": {
    "collapsed": false,
    "ExecuteTime": {
     "end_time": "2023-10-19T21:24:05.441988Z",
     "start_time": "2023-10-19T21:24:04.973750Z"
    }
   }
  },
  {
   "cell_type": "code",
   "execution_count": 251,
   "outputs": [],
   "source": [
    "scaler = RobustScaler()\n",
    "data_encoded[['startYear','runtimeMinutes','averageRating','numVotes']] = scaler.fit_transform(data_encoded[['startYear','runtimeMinutes','averageRating','numVotes']])"
   ],
   "metadata": {
    "collapsed": false,
    "ExecuteTime": {
     "end_time": "2023-10-19T21:24:05.448192Z",
     "start_time": "2023-10-19T21:24:05.442148Z"
    }
   }
  },
  {
   "cell_type": "code",
   "execution_count": 252,
   "outputs": [],
   "source": [
    "data_encoded.fillna(False, inplace=True)"
   ],
   "metadata": {
    "collapsed": false,
    "ExecuteTime": {
     "end_time": "2023-10-19T21:24:10.533525Z",
     "start_time": "2023-10-19T21:24:07.483540Z"
    }
   }
  },
  {
   "cell_type": "code",
   "execution_count": 253,
   "outputs": [],
   "source": [
    "token_plot = infos_movies['plot'].apply(lambda sentence : \",\".join(nlp.token(sentence)))"
   ],
   "metadata": {
    "collapsed": false,
    "ExecuteTime": {
     "end_time": "2023-10-19T21:24:37.965883Z",
     "start_time": "2023-10-19T21:24:10.528345Z"
    }
   }
  },
  {
   "cell_type": "code",
   "execution_count": 254,
   "outputs": [],
   "source": [
    "cv=CountVectorizer(\n",
    "    ngram_range= (1, 3),\n",
    "    max_df= 0.01,\n",
    "    min_df=2\n",
    ")"
   ],
   "metadata": {
    "collapsed": false,
    "ExecuteTime": {
     "end_time": "2023-10-19T21:24:37.976614Z",
     "start_time": "2023-10-19T21:24:37.974771Z"
    }
   }
  },
  {
   "cell_type": "code",
   "execution_count": 255,
   "outputs": [],
   "source": [
    "sparse = cv.fit_transform(token_plot)"
   ],
   "metadata": {
    "collapsed": false,
    "ExecuteTime": {
     "end_time": "2023-10-19T21:24:38.173839Z",
     "start_time": "2023-10-19T21:24:38.048773Z"
    }
   }
  },
  {
   "cell_type": "code",
   "execution_count": 257,
   "outputs": [],
   "source": [
    "data_encoded = pd.merge(\n",
    "    left=data_encoded,\n",
    "    right=pd.DataFrame.sparse.from_spmatrix(sparse,index=token_plot.index,columns=\"Nlp_\"+cv.get_feature_names_out()),\n",
    "    left_index=True,\n",
    "    right_index=True,\n",
    "    how='left'\n",
    ")"
   ],
   "metadata": {
    "collapsed": false,
    "ExecuteTime": {
     "end_time": "2023-10-19T21:24:38.801822Z",
     "start_time": "2023-10-19T21:24:38.256862Z"
    }
   }
  },
  {
   "cell_type": "code",
   "execution_count": 259,
   "outputs": [],
   "source": [
    "data_encoded.to_pickle(\"data/data_encoded.p\")"
   ],
   "metadata": {
    "collapsed": false,
    "ExecuteTime": {
     "end_time": "2023-10-19T21:24:38.941106Z",
     "start_time": "2023-10-19T21:24:38.829942Z"
    }
   }
  },
  {
   "cell_type": "code",
   "execution_count": null,
   "outputs": [],
   "source": [],
   "metadata": {
    "collapsed": false
   }
  }
 ],
 "metadata": {
  "kernelspec": {
   "display_name": "Python 3",
   "language": "python",
   "name": "python3"
  },
  "language_info": {
   "codemirror_mode": {
    "name": "ipython",
    "version": 2
   },
   "file_extension": ".py",
   "mimetype": "text/x-python",
   "name": "python",
   "nbconvert_exporter": "python",
   "pygments_lexer": "ipython2",
   "version": "2.7.6"
  }
 },
 "nbformat": 4,
 "nbformat_minor": 0
}
