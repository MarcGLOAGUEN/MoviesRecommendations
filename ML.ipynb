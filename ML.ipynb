{
 "cells": [
  {
   "cell_type": "code",
   "execution_count": 1,
   "metadata": {
    "collapsed": true,
    "ExecuteTime": {
     "end_time": "2023-11-16T16:22:24.837094Z",
     "start_time": "2023-11-16T16:22:22.800850Z"
    }
   },
   "outputs": [],
   "source": [
    "import pandas as pd\n",
    "from sklearn.neighbors import NearestNeighbors\n",
    "import joblib\n",
    "from thefuzz import process"
   ]
  },
  {
   "cell_type": "code",
   "execution_count": 2,
   "outputs": [],
   "source": [
    "infos_movies=pd.read_pickle('data/infos_movies.p')"
   ],
   "metadata": {
    "collapsed": false,
    "ExecuteTime": {
     "end_time": "2023-11-16T16:22:24.845739Z",
     "start_time": "2023-11-16T16:22:24.832256Z"
    }
   }
  },
  {
   "cell_type": "code",
   "execution_count": 3,
   "outputs": [],
   "source": [
    "data_encoded=pd.read_pickle('data/data_encoded.p')"
   ],
   "metadata": {
    "collapsed": false,
    "ExecuteTime": {
     "end_time": "2023-11-16T16:22:25.165615Z",
     "start_time": "2023-11-16T16:22:24.846530Z"
    }
   }
  },
  {
   "cell_type": "code",
   "execution_count": 136,
   "outputs": [],
   "source": [
    "data_encoded['Genre_Animation'] *= 3\n",
    "data_encoded['Genre_Drama'] *= 0.3\n",
    "data_encoded['Genre_Comedy'] *= 0.5"
   ],
   "metadata": {
    "collapsed": false,
    "ExecuteTime": {
     "end_time": "2023-10-19T21:33:50.929363Z",
     "start_time": "2023-10-19T21:33:50.924687Z"
    }
   }
  },
  {
   "cell_type": "code",
   "execution_count": 137,
   "outputs": [],
   "source": [
    "data_encoded[data_encoded.columns[data_encoded.columns.str.contains('Genre_')]] *= 2\n",
    "data_encoded[data_encoded.columns[data_encoded.columns.str.contains('Country_')]] *= 1.8\n",
    "data_encoded[data_encoded.columns[data_encoded.columns.str.contains('Castings_')]] *= 1\n",
    "data_encoded[data_encoded.columns[data_encoded.columns.str.contains('Nlp_')]] *= 1"
   ],
   "metadata": {
    "collapsed": false,
    "ExecuteTime": {
     "end_time": "2023-10-19T21:33:55.113584Z",
     "start_time": "2023-10-19T21:33:50.935897Z"
    }
   }
  },
  {
   "cell_type": "code",
   "execution_count": 138,
   "outputs": [],
   "source": [
    "data_encoded['startYear'] *= 2\n",
    "data_encoded['runtimeMinutes'] *= 0\n",
    "data_encoded['averageRating'] *= 0.4\n",
    "data_encoded['numVotes'] *= 0"
   ],
   "metadata": {
    "collapsed": false,
    "ExecuteTime": {
     "end_time": "2023-10-19T21:33:55.118870Z",
     "start_time": "2023-10-19T21:33:55.117Z"
    }
   }
  },
  {
   "cell_type": "code",
   "execution_count": 139,
   "outputs": [],
   "source": [
    "data_encoded.to_pickle('data/data_weight.p')"
   ],
   "metadata": {
    "collapsed": false,
    "ExecuteTime": {
     "end_time": "2023-10-19T21:33:55.277111Z",
     "start_time": "2023-10-19T21:33:55.119241Z"
    }
   }
  },
  {
   "cell_type": "code",
   "execution_count": 140,
   "outputs": [
    {
     "name": "stderr",
     "output_type": "stream",
     "text": [
      "/Users/marc/Documents/Projects/MyMoviesRecommendations/.env/lib/python3.10/site-packages/sklearn/utils/validation.py:785: UserWarning: pandas.DataFrame with sparse columns found.It will be converted to a dense numpy array.\n",
      "  warnings.warn(\n"
     ]
    },
    {
     "data": {
      "text/plain": "NearestNeighbors(n_neighbors=6)",
      "text/html": "<style>#sk-container-id-11 {color: black;}#sk-container-id-11 pre{padding: 0;}#sk-container-id-11 div.sk-toggleable {background-color: white;}#sk-container-id-11 label.sk-toggleable__label {cursor: pointer;display: block;width: 100%;margin-bottom: 0;padding: 0.3em;box-sizing: border-box;text-align: center;}#sk-container-id-11 label.sk-toggleable__label-arrow:before {content: \"▸\";float: left;margin-right: 0.25em;color: #696969;}#sk-container-id-11 label.sk-toggleable__label-arrow:hover:before {color: black;}#sk-container-id-11 div.sk-estimator:hover label.sk-toggleable__label-arrow:before {color: black;}#sk-container-id-11 div.sk-toggleable__content {max-height: 0;max-width: 0;overflow: hidden;text-align: left;background-color: #f0f8ff;}#sk-container-id-11 div.sk-toggleable__content pre {margin: 0.2em;color: black;border-radius: 0.25em;background-color: #f0f8ff;}#sk-container-id-11 input.sk-toggleable__control:checked~div.sk-toggleable__content {max-height: 200px;max-width: 100%;overflow: auto;}#sk-container-id-11 input.sk-toggleable__control:checked~label.sk-toggleable__label-arrow:before {content: \"▾\";}#sk-container-id-11 div.sk-estimator input.sk-toggleable__control:checked~label.sk-toggleable__label {background-color: #d4ebff;}#sk-container-id-11 div.sk-label input.sk-toggleable__control:checked~label.sk-toggleable__label {background-color: #d4ebff;}#sk-container-id-11 input.sk-hidden--visually {border: 0;clip: rect(1px 1px 1px 1px);clip: rect(1px, 1px, 1px, 1px);height: 1px;margin: -1px;overflow: hidden;padding: 0;position: absolute;width: 1px;}#sk-container-id-11 div.sk-estimator {font-family: monospace;background-color: #f0f8ff;border: 1px dotted black;border-radius: 0.25em;box-sizing: border-box;margin-bottom: 0.5em;}#sk-container-id-11 div.sk-estimator:hover {background-color: #d4ebff;}#sk-container-id-11 div.sk-parallel-item::after {content: \"\";width: 100%;border-bottom: 1px solid gray;flex-grow: 1;}#sk-container-id-11 div.sk-label:hover label.sk-toggleable__label {background-color: #d4ebff;}#sk-container-id-11 div.sk-serial::before {content: \"\";position: absolute;border-left: 1px solid gray;box-sizing: border-box;top: 0;bottom: 0;left: 50%;z-index: 0;}#sk-container-id-11 div.sk-serial {display: flex;flex-direction: column;align-items: center;background-color: white;padding-right: 0.2em;padding-left: 0.2em;position: relative;}#sk-container-id-11 div.sk-item {position: relative;z-index: 1;}#sk-container-id-11 div.sk-parallel {display: flex;align-items: stretch;justify-content: center;background-color: white;position: relative;}#sk-container-id-11 div.sk-item::before, #sk-container-id-11 div.sk-parallel-item::before {content: \"\";position: absolute;border-left: 1px solid gray;box-sizing: border-box;top: 0;bottom: 0;left: 50%;z-index: -1;}#sk-container-id-11 div.sk-parallel-item {display: flex;flex-direction: column;z-index: 1;position: relative;background-color: white;}#sk-container-id-11 div.sk-parallel-item:first-child::after {align-self: flex-end;width: 50%;}#sk-container-id-11 div.sk-parallel-item:last-child::after {align-self: flex-start;width: 50%;}#sk-container-id-11 div.sk-parallel-item:only-child::after {width: 0;}#sk-container-id-11 div.sk-dashed-wrapped {border: 1px dashed gray;margin: 0 0.4em 0.5em 0.4em;box-sizing: border-box;padding-bottom: 0.4em;background-color: white;}#sk-container-id-11 div.sk-label label {font-family: monospace;font-weight: bold;display: inline-block;line-height: 1.2em;}#sk-container-id-11 div.sk-label-container {text-align: center;}#sk-container-id-11 div.sk-container {/* jupyter's `normalize.less` sets `[hidden] { display: none; }` but bootstrap.min.css set `[hidden] { display: none !important; }` so we also need the `!important` here to be able to override the default hidden behavior on the sphinx rendered scikit-learn.org. See: https://github.com/scikit-learn/scikit-learn/issues/21755 */display: inline-block !important;position: relative;}#sk-container-id-11 div.sk-text-repr-fallback {display: none;}</style><div id=\"sk-container-id-11\" class=\"sk-top-container\"><div class=\"sk-text-repr-fallback\"><pre>NearestNeighbors(n_neighbors=6)</pre><b>In a Jupyter environment, please rerun this cell to show the HTML representation or trust the notebook. <br />On GitHub, the HTML representation is unable to render, please try loading this page with nbviewer.org.</b></div><div class=\"sk-container\" hidden><div class=\"sk-item\"><div class=\"sk-estimator sk-toggleable\"><input class=\"sk-toggleable__control sk-hidden--visually\" id=\"sk-estimator-id-11\" type=\"checkbox\" checked><label for=\"sk-estimator-id-11\" class=\"sk-toggleable__label sk-toggleable__label-arrow\">NearestNeighbors</label><div class=\"sk-toggleable__content\"><pre>NearestNeighbors(n_neighbors=6)</pre></div></div></div></div></div>"
     },
     "execution_count": 140,
     "metadata": {},
     "output_type": "execute_result"
    }
   ],
   "source": [
    "model = NearestNeighbors(n_neighbors=6)\n",
    "model.fit(data_encoded)"
   ],
   "metadata": {
    "collapsed": false,
    "ExecuteTime": {
     "end_time": "2023-10-19T21:33:58.089805Z",
     "start_time": "2023-10-19T21:33:55.303710Z"
    }
   }
  },
  {
   "cell_type": "code",
   "execution_count": 141,
   "outputs": [
    {
     "data": {
      "text/plain": "['NearestNeighbors.pkl']"
     },
     "execution_count": 141,
     "metadata": {},
     "output_type": "execute_result"
    }
   ],
   "source": [
    "joblib.dump(model, 'NearestNeighbors.pkl')"
   ],
   "metadata": {
    "collapsed": false,
    "ExecuteTime": {
     "end_time": "2023-10-19T21:33:58.434588Z",
     "start_time": "2023-10-19T21:33:58.089200Z"
    }
   }
  },
  {
   "cell_type": "code",
   "execution_count": 145,
   "outputs": [],
   "source": [
    "title = \"Dune\""
   ],
   "metadata": {
    "collapsed": false,
    "ExecuteTime": {
     "end_time": "2023-10-19T21:34:31.245060Z",
     "start_time": "2023-10-19T21:34:31.239178Z"
    }
   }
  },
  {
   "cell_type": "code",
   "execution_count": 146,
   "outputs": [],
   "source": [
    "scores = process.extract(title, infos_movies.originalTitle, limit=5)"
   ],
   "metadata": {
    "collapsed": false,
    "ExecuteTime": {
     "end_time": "2023-10-19T21:34:31.583719Z",
     "start_time": "2023-10-19T21:34:31.581719Z"
    }
   }
  },
  {
   "cell_type": "code",
   "execution_count": 147,
   "outputs": [
    {
     "name": "stderr",
     "output_type": "stream",
     "text": [
      "/Users/marc/Documents/Projects/MyMoviesRecommendations/.env/lib/python3.10/site-packages/sklearn/utils/validation.py:785: UserWarning: pandas.DataFrame with sparse columns found.It will be converted to a dense numpy array.\n",
      "  warnings.warn(\n"
     ]
    },
    {
     "data": {
      "text/plain": "                             originalTitle  startYear  runtimeMinutes  \\\ntconst                                                                  \ntt0087182                             Dune       1984             137   \ntt0074812                      Logan's Run       1976             119   \ntt0120201                Starship Troopers       1997             129   \ntt0087597             The Last Starfighter       1984             101   \ntt0084726  Star Trek II: The Wrath of Khan       1982             113   \ntt0087078              Conan the Destroyer       1984             103   \n\n                             genres  averageRating  numVotes  \\\ntconst                                                         \ntt0087182   Action,Adventure,Sci-Fi            6.3       137   \ntt0074812   Action,Adventure,Sci-Fi            6.8       119   \ntt0120201   Action,Adventure,Sci-Fi            7.3       129   \ntt0087597   Action,Adventure,Sci-Fi            6.7       101   \ntt0084726   Action,Adventure,Sci-Fi            7.7       113   \ntt0087078  Action,Adventure,Fantasy            5.9       103   \n\n                                                        plot  \\\ntconst                                                         \ntt0087182  A Duke's son leads desert warriors against the...   \ntt0074812  A police officer in the future uncovers the de...   \ntt0120201  Humans in a fascist, militaristic future wage ...   \ntt0087597  High schooler Alex Rogan conquers the Starfigh...   \ntt0084726  With the assistance of the Enterprise crew, Ad...   \ntt0087078  Conan leads a ragtag group of adventurers on a...   \n\n                         country  \\\ntconst                             \ntt0087182  United States, Mexico   \ntt0074812          United States   \ntt0120201          United States   \ntt0087597          United States   \ntt0084726          United States   \ntt0087078  United States, Mexico   \n\n                                                      poster  \\\ntconst                                                         \ntt0087182  https://m.media-amazon.com/images/M/MV5BYTAzYz...   \ntt0074812  https://m.media-amazon.com/images/M/MV5BZjFiY2...   \ntt0120201  https://m.media-amazon.com/images/M/MV5BNWExNz...   \ntt0087597  https://m.media-amazon.com/images/M/MV5BNjIzMW...   \ntt0084726  https://m.media-amazon.com/images/M/MV5BNmZiZm...   \ntt0087078  https://m.media-amazon.com/images/M/MV5BNTMzMz...   \n\n                                                       actor  \\\ntconst                                                         \ntt0087182                                  [Kyle MacLachlan]   \ntt0074812  [Michael York, Richard Jordan, Roscoe Lee Browne]   \ntt0120201                                                      \ntt0087597                                   [Robert Preston]   \ntt0084726  [William Shatner, Leonard Nimoy, DeForest Kell...   \ntt0087078                            [Arnold Schwarzenegger]   \n\n                                      actress archive_footage  \\\ntconst                                                          \ntt0087182  [Francesca Annis, Virginia Madsen]                   \ntt0074812                     [Jenny Agutter]                   \ntt0120201       [Dina Meyer, Denise Richards]                   \ntt0087597                                                       \ntt0084726                                                       \ntt0087078                                                       \n\n             cinematographer            composer             director  \\\ntconst                                                                  \ntt0087182  [Freddie Francis]                            [David Lynch]   \ntt0074812                      [Jerry Goldsmith]                        \ntt0120201                     [Basil Poledouris]     [Paul Verhoeven]   \ntt0087597                                               [Nick Castle]   \ntt0084726                                            [Nicholas Meyer]   \ntt0087078                                         [Richard Fleischer]   \n\n                   editor                      producer production_designer  \\\ntconst                                                                        \ntt0087182  [Antony Gibbs]     [Raffaella De Laurentiis]                       \ntt0074812                                                                     \ntt0120201                  [Alan Marshall, Jon Davison]                       \ntt0087597                                [Gary Adelson]                       \ntt0084726                                                                     \ntt0087078                     [Raffaella De Laurentiis]                       \n\n          self                                         writer  \ntconst                                                         \ntt0087182                                                      \ntt0074812       [George Clayton Johnson, David Zelag Goodman]  \ntt0120201                                   [Edward Neumeier]  \ntt0087597                                                      \ntt0084726                   [Gene Roddenberry, Harve Bennett]  \ntt0087078        [Stanley Mann, Robert E. Howard, Roy Thomas]  ",
      "text/html": "<div>\n<style scoped>\n    .dataframe tbody tr th:only-of-type {\n        vertical-align: middle;\n    }\n\n    .dataframe tbody tr th {\n        vertical-align: top;\n    }\n\n    .dataframe thead th {\n        text-align: right;\n    }\n</style>\n<table border=\"1\" class=\"dataframe\">\n  <thead>\n    <tr style=\"text-align: right;\">\n      <th></th>\n      <th>originalTitle</th>\n      <th>startYear</th>\n      <th>runtimeMinutes</th>\n      <th>genres</th>\n      <th>averageRating</th>\n      <th>numVotes</th>\n      <th>plot</th>\n      <th>country</th>\n      <th>poster</th>\n      <th>actor</th>\n      <th>actress</th>\n      <th>archive_footage</th>\n      <th>cinematographer</th>\n      <th>composer</th>\n      <th>director</th>\n      <th>editor</th>\n      <th>producer</th>\n      <th>production_designer</th>\n      <th>self</th>\n      <th>writer</th>\n    </tr>\n    <tr>\n      <th>tconst</th>\n      <th></th>\n      <th></th>\n      <th></th>\n      <th></th>\n      <th></th>\n      <th></th>\n      <th></th>\n      <th></th>\n      <th></th>\n      <th></th>\n      <th></th>\n      <th></th>\n      <th></th>\n      <th></th>\n      <th></th>\n      <th></th>\n      <th></th>\n      <th></th>\n      <th></th>\n      <th></th>\n    </tr>\n  </thead>\n  <tbody>\n    <tr>\n      <th>tt0087182</th>\n      <td>Dune</td>\n      <td>1984</td>\n      <td>137</td>\n      <td>Action,Adventure,Sci-Fi</td>\n      <td>6.3</td>\n      <td>137</td>\n      <td>A Duke's son leads desert warriors against the...</td>\n      <td>United States, Mexico</td>\n      <td>https://m.media-amazon.com/images/M/MV5BYTAzYz...</td>\n      <td>[Kyle MacLachlan]</td>\n      <td>[Francesca Annis, Virginia Madsen]</td>\n      <td></td>\n      <td>[Freddie Francis]</td>\n      <td></td>\n      <td>[David Lynch]</td>\n      <td>[Antony Gibbs]</td>\n      <td>[Raffaella De Laurentiis]</td>\n      <td></td>\n      <td></td>\n      <td></td>\n    </tr>\n    <tr>\n      <th>tt0074812</th>\n      <td>Logan's Run</td>\n      <td>1976</td>\n      <td>119</td>\n      <td>Action,Adventure,Sci-Fi</td>\n      <td>6.8</td>\n      <td>119</td>\n      <td>A police officer in the future uncovers the de...</td>\n      <td>United States</td>\n      <td>https://m.media-amazon.com/images/M/MV5BZjFiY2...</td>\n      <td>[Michael York, Richard Jordan, Roscoe Lee Browne]</td>\n      <td>[Jenny Agutter]</td>\n      <td></td>\n      <td></td>\n      <td>[Jerry Goldsmith]</td>\n      <td></td>\n      <td></td>\n      <td></td>\n      <td></td>\n      <td></td>\n      <td>[George Clayton Johnson, David Zelag Goodman]</td>\n    </tr>\n    <tr>\n      <th>tt0120201</th>\n      <td>Starship Troopers</td>\n      <td>1997</td>\n      <td>129</td>\n      <td>Action,Adventure,Sci-Fi</td>\n      <td>7.3</td>\n      <td>129</td>\n      <td>Humans in a fascist, militaristic future wage ...</td>\n      <td>United States</td>\n      <td>https://m.media-amazon.com/images/M/MV5BNWExNz...</td>\n      <td></td>\n      <td>[Dina Meyer, Denise Richards]</td>\n      <td></td>\n      <td></td>\n      <td>[Basil Poledouris]</td>\n      <td>[Paul Verhoeven]</td>\n      <td></td>\n      <td>[Alan Marshall, Jon Davison]</td>\n      <td></td>\n      <td></td>\n      <td>[Edward Neumeier]</td>\n    </tr>\n    <tr>\n      <th>tt0087597</th>\n      <td>The Last Starfighter</td>\n      <td>1984</td>\n      <td>101</td>\n      <td>Action,Adventure,Sci-Fi</td>\n      <td>6.7</td>\n      <td>101</td>\n      <td>High schooler Alex Rogan conquers the Starfigh...</td>\n      <td>United States</td>\n      <td>https://m.media-amazon.com/images/M/MV5BNjIzMW...</td>\n      <td>[Robert Preston]</td>\n      <td></td>\n      <td></td>\n      <td></td>\n      <td></td>\n      <td>[Nick Castle]</td>\n      <td></td>\n      <td>[Gary Adelson]</td>\n      <td></td>\n      <td></td>\n      <td></td>\n    </tr>\n    <tr>\n      <th>tt0084726</th>\n      <td>Star Trek II: The Wrath of Khan</td>\n      <td>1982</td>\n      <td>113</td>\n      <td>Action,Adventure,Sci-Fi</td>\n      <td>7.7</td>\n      <td>113</td>\n      <td>With the assistance of the Enterprise crew, Ad...</td>\n      <td>United States</td>\n      <td>https://m.media-amazon.com/images/M/MV5BNmZiZm...</td>\n      <td>[William Shatner, Leonard Nimoy, DeForest Kell...</td>\n      <td></td>\n      <td></td>\n      <td></td>\n      <td></td>\n      <td>[Nicholas Meyer]</td>\n      <td></td>\n      <td></td>\n      <td></td>\n      <td></td>\n      <td>[Gene Roddenberry, Harve Bennett]</td>\n    </tr>\n    <tr>\n      <th>tt0087078</th>\n      <td>Conan the Destroyer</td>\n      <td>1984</td>\n      <td>103</td>\n      <td>Action,Adventure,Fantasy</td>\n      <td>5.9</td>\n      <td>103</td>\n      <td>Conan leads a ragtag group of adventurers on a...</td>\n      <td>United States, Mexico</td>\n      <td>https://m.media-amazon.com/images/M/MV5BNTMzMz...</td>\n      <td>[Arnold Schwarzenegger]</td>\n      <td></td>\n      <td></td>\n      <td></td>\n      <td></td>\n      <td>[Richard Fleischer]</td>\n      <td></td>\n      <td>[Raffaella De Laurentiis]</td>\n      <td></td>\n      <td></td>\n      <td>[Stanley Mann, Robert E. Howard, Roy Thomas]</td>\n    </tr>\n  </tbody>\n</table>\n</div>"
     },
     "execution_count": 147,
     "metadata": {},
     "output_type": "execute_result"
    }
   ],
   "source": [
    "neigh_ind = model.kneighbors(data_encoded[infos_movies.originalTitle==scores[0][0]], return_distance=False)[0]\n",
    "infos_movies.iloc[neigh_ind].fillna('')"
   ],
   "metadata": {
    "collapsed": false,
    "ExecuteTime": {
     "end_time": "2023-10-19T21:34:33.332419Z",
     "start_time": "2023-10-19T21:34:31.840557Z"
    }
   }
  }
 ],
 "metadata": {
  "kernelspec": {
   "display_name": "Python 3",
   "language": "python",
   "name": "python3"
  },
  "language_info": {
   "codemirror_mode": {
    "name": "ipython",
    "version": 2
   },
   "file_extension": ".py",
   "mimetype": "text/x-python",
   "name": "python",
   "nbconvert_exporter": "python",
   "pygments_lexer": "ipython2",
   "version": "2.7.6"
  }
 },
 "nbformat": 4,
 "nbformat_minor": 0
}
