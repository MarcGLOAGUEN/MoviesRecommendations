{
 "cells": [
  {
   "cell_type": "code",
   "execution_count": 1,
   "id": "initial_id",
   "metadata": {
    "collapsed": true,
    "ExecuteTime": {
     "end_time": "2023-11-06T15:29:07.884835Z",
     "start_time": "2023-11-06T15:29:06.613339Z"
    }
   },
   "outputs": [],
   "source": [
    "import pandas as pd"
   ]
  },
  {
   "cell_type": "code",
   "execution_count": 4,
   "outputs": [],
   "source": [
    "data = pd.read_pickle('data/infos_movies.p')"
   ],
   "metadata": {
    "collapsed": false,
    "ExecuteTime": {
     "end_time": "2023-11-06T15:29:47.886364Z",
     "start_time": "2023-11-06T15:29:47.871839Z"
    }
   },
   "id": "e10ef5142d699779"
  },
  {
   "cell_type": "code",
   "execution_count": 18,
   "outputs": [
    {
     "data": {
      "text/plain": "genres\nDrama          0.220855\nComedy         0.140838\nAction         0.091492\nCrime          0.077094\nAdventure      0.069808\nRomance        0.066143\nThriller       0.061736\nHorror         0.046335\nMystery        0.039747\nFantasy        0.031065\nSci-Fi         0.028054\nBiography      0.027138\nAnimation      0.020550\nFamily         0.017932\nHistory        0.015707\nMusic          0.011126\nWar            0.009991\nDocumentary    0.007548\nSport          0.007068\nWestern        0.004145\nMusical        0.003709\nFilm-Noir      0.001702\nNews           0.000175\nReality-TV     0.000044\nName: proportion, dtype: float64"
     },
     "execution_count": 18,
     "metadata": {},
     "output_type": "execute_result"
    }
   ],
   "source": [
    "data.genres.str.split(',').explode().value_counts(True)"
   ],
   "metadata": {
    "collapsed": false,
    "ExecuteTime": {
     "end_time": "2023-11-06T15:34:28.589630Z",
     "start_time": "2023-11-06T15:34:28.587280Z"
    }
   },
   "id": "ccd241d615ab73ac"
  },
  {
   "cell_type": "code",
   "execution_count": 6,
   "outputs": [
    {
     "data": {
      "text/plain": "          tconst                                               plot  \\\n0      tt0002130  Loosely adapted from Dante's Divine Comedy and...   \n1      tt0002423  The story of Madame DuBarry, the mistress of L...   \n2      tt0002844  Inspector Juve is tasked to investigate and ca...   \n3      tt0003014  Financial struggles separate a single mother f...   \n4      tt0003037  In Part Two of Louis Feuillade's 5 1/2-hour ep...   \n...          ...                                                ...   \n43291  tt9907782  In rural 19th-century France, a mysterious, po...   \n43292  tt9908390  A psychiatric hospital patient pretends to be ...   \n43293  tt9911196  A middle-aged veterinary surgeon, believing th...   \n43294  tt9916270  Dj Steph is a young radio deejay on the rise, ...   \n43295  tt9916362  Basque Country, 1609. The men of the region ar...   \n\n                                     country  \\\n0                                      Italy   \n1                                    Germany   \n2                                     France   \n3                                     Sweden   \n4                                     France   \n...                                      ...   \n43291  United Kingdom, France, United States   \n43292                        France, Belgium   \n43293                            Netherlands   \n43294                           Italy, Spain   \n43295               Spain, France, Argentina   \n\n                                                  poster  \n0      https://m.media-amazon.com/images/M/MV5BNjU1ND...  \n1      https://m.media-amazon.com/images/M/MV5BODIwYT...  \n2      https://m.media-amazon.com/images/M/MV5BMTQxND...  \n3      https://m.media-amazon.com/images/M/MV5BMTQyND...  \n4      https://m.media-amazon.com/images/M/MV5BMTFkM2...  \n...                                                  ...  \n43291  https://m.media-amazon.com/images/M/MV5BMjllNW...  \n43292  https://m.media-amazon.com/images/M/MV5BY2IxYT...  \n43293  https://m.media-amazon.com/images/M/MV5BYjNjZm...  \n43294  https://m.media-amazon.com/images/M/MV5BNmVjMT...  \n43295  https://m.media-amazon.com/images/M/MV5BZTc0NG...  \n\n[43296 rows x 4 columns]",
      "text/html": "<div>\n<style scoped>\n    .dataframe tbody tr th:only-of-type {\n        vertical-align: middle;\n    }\n\n    .dataframe tbody tr th {\n        vertical-align: top;\n    }\n\n    .dataframe thead th {\n        text-align: right;\n    }\n</style>\n<table border=\"1\" class=\"dataframe\">\n  <thead>\n    <tr style=\"text-align: right;\">\n      <th></th>\n      <th>tconst</th>\n      <th>plot</th>\n      <th>country</th>\n      <th>poster</th>\n    </tr>\n  </thead>\n  <tbody>\n    <tr>\n      <th>0</th>\n      <td>tt0002130</td>\n      <td>Loosely adapted from Dante's Divine Comedy and...</td>\n      <td>Italy</td>\n      <td>https://m.media-amazon.com/images/M/MV5BNjU1ND...</td>\n    </tr>\n    <tr>\n      <th>1</th>\n      <td>tt0002423</td>\n      <td>The story of Madame DuBarry, the mistress of L...</td>\n      <td>Germany</td>\n      <td>https://m.media-amazon.com/images/M/MV5BODIwYT...</td>\n    </tr>\n    <tr>\n      <th>2</th>\n      <td>tt0002844</td>\n      <td>Inspector Juve is tasked to investigate and ca...</td>\n      <td>France</td>\n      <td>https://m.media-amazon.com/images/M/MV5BMTQxND...</td>\n    </tr>\n    <tr>\n      <th>3</th>\n      <td>tt0003014</td>\n      <td>Financial struggles separate a single mother f...</td>\n      <td>Sweden</td>\n      <td>https://m.media-amazon.com/images/M/MV5BMTQyND...</td>\n    </tr>\n    <tr>\n      <th>4</th>\n      <td>tt0003037</td>\n      <td>In Part Two of Louis Feuillade's 5 1/2-hour ep...</td>\n      <td>France</td>\n      <td>https://m.media-amazon.com/images/M/MV5BMTFkM2...</td>\n    </tr>\n    <tr>\n      <th>...</th>\n      <td>...</td>\n      <td>...</td>\n      <td>...</td>\n      <td>...</td>\n    </tr>\n    <tr>\n      <th>43291</th>\n      <td>tt9907782</td>\n      <td>In rural 19th-century France, a mysterious, po...</td>\n      <td>United Kingdom, France, United States</td>\n      <td>https://m.media-amazon.com/images/M/MV5BMjllNW...</td>\n    </tr>\n    <tr>\n      <th>43292</th>\n      <td>tt9908390</td>\n      <td>A psychiatric hospital patient pretends to be ...</td>\n      <td>France, Belgium</td>\n      <td>https://m.media-amazon.com/images/M/MV5BY2IxYT...</td>\n    </tr>\n    <tr>\n      <th>43293</th>\n      <td>tt9911196</td>\n      <td>A middle-aged veterinary surgeon, believing th...</td>\n      <td>Netherlands</td>\n      <td>https://m.media-amazon.com/images/M/MV5BYjNjZm...</td>\n    </tr>\n    <tr>\n      <th>43294</th>\n      <td>tt9916270</td>\n      <td>Dj Steph is a young radio deejay on the rise, ...</td>\n      <td>Italy, Spain</td>\n      <td>https://m.media-amazon.com/images/M/MV5BNmVjMT...</td>\n    </tr>\n    <tr>\n      <th>43295</th>\n      <td>tt9916362</td>\n      <td>Basque Country, 1609. The men of the region ar...</td>\n      <td>Spain, France, Argentina</td>\n      <td>https://m.media-amazon.com/images/M/MV5BZTc0NG...</td>\n    </tr>\n  </tbody>\n</table>\n<p>43296 rows × 4 columns</p>\n</div>"
     },
     "execution_count": 6,
     "metadata": {},
     "output_type": "execute_result"
    }
   ],
   "source": [
    "pd.read_csv('data/request_api.csv')"
   ],
   "metadata": {
    "collapsed": false,
    "ExecuteTime": {
     "end_time": "2023-11-06T15:30:41.974363Z",
     "start_time": "2023-11-06T15:30:41.838920Z"
    }
   },
   "id": "f122152ab612b022"
  },
  {
   "cell_type": "code",
   "execution_count": null,
   "outputs": [],
   "source": [],
   "metadata": {
    "collapsed": false
   },
   "id": "1bf86d0fc58dae0e"
  }
 ],
 "metadata": {
  "kernelspec": {
   "display_name": "Python 3",
   "language": "python",
   "name": "python3"
  },
  "language_info": {
   "codemirror_mode": {
    "name": "ipython",
    "version": 2
   },
   "file_extension": ".py",
   "mimetype": "text/x-python",
   "name": "python",
   "nbconvert_exporter": "python",
   "pygments_lexer": "ipython2",
   "version": "2.7.6"
  }
 },
 "nbformat": 4,
 "nbformat_minor": 5
}
